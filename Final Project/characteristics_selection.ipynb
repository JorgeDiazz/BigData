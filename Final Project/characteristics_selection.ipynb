{
 "cells": [
  {
   "cell_type": "code",
   "execution_count": 1,
   "metadata": {},
   "outputs": [],
   "source": [
    "import os\n",
    "os.environ[\"PYSPARK_PYTHON\"]=\"/usr/local/bin/ipython3\""
   ]
  },
  {
   "cell_type": "code",
   "execution_count": 2,
   "metadata": {},
   "outputs": [],
   "source": [
    "from pyspark import SparkContext\n",
    "sc = SparkContext(\"local\", \"final_project\")"
   ]
  },
  {
   "cell_type": "code",
   "execution_count": 6,
   "metadata": {},
   "outputs": [],
   "source": [
    "# read chat data to rdd\n",
    "file_to_read = 'chat_example.txt'\n",
    "rdd_chat = sc.textFile(file_to_read).cache()"
   ]
  },
  {
   "cell_type": "code",
   "execution_count": 7,
   "metadata": {},
   "outputs": [
    {
     "data": {
      "text/plain": [
       "['1/3/19, 8:37 PM - Messages to this chat and calls are now secured with end-to-end encryption. Tap for more info.',\n",
       " '1/3/19, 8:37 PM - Jorge U: Jorge',\n",
       " '1/3/19, 8:37 PM - Jorge U: 🙂',\n",
       " '1/3/19, 11:49 PM - Edwin Vargas: <Media omitted>',\n",
       " '1/3/19, 11:49 PM - Edwin Vargas: Salen muy buenas',\n",
       " '1/3/19, 11:50 PM - Edwin Vargas: Lo digo porque ya las he visto en acción',\n",
       " '1/3/19, 11:58 PM - Edwin Vargas: http://www.incolmotos-yamaha.com.co/site/productos/motos/urbanas-trabajo-y-deportivas/ybr-125',\n",
       " '1/3/19, 11:58 PM - Edwin Vargas: O esa',\n",
       " '1/5/19, 10:05 PM - Edwin Vargas: Wey',\n",
       " '1/5/19, 10:05 PM - Edwin Vargas: Qué va a hacer mañana?']"
      ]
     },
     "execution_count": 7,
     "metadata": {},
     "output_type": "execute_result"
    }
   ],
   "source": [
    "# print example from rdd_chat\n",
    "rdd_chat.take(10)    "
   ]
  },
  {
   "cell_type": "code",
   "execution_count": 111,
   "metadata": {},
   "outputs": [],
   "source": [
    "import re\n",
    "\n",
    "# function to clean message from whatsapp chat\n",
    "def clean_message(message):\n",
    "    return clean_articles(clean_username(clean_date(clean_whatsapp_message(message))))\n",
    "\n",
    "# function to clean date from message \n",
    "def clean_date(message):\n",
    "    return re.sub(r'(\\d+\\/\\d+\\/\\d+)(,)(\\s)(\\d+:\\d+)(\\s)(\\w+)(\\s)(-)', '', message)\n",
    "\n",
    "# function to clean name from message\n",
    "def clean_username(message):\n",
    "    return re.sub(r'([\\s\\wñÑáéíóúÁÉÍÓÚ]+)(:)', '', message)\n",
    "\n",
    "# fuction to clean articles from message\n",
    "def clean_articles(message):\n",
    "    return re.sub(r'(?i)(\\s)+(\\b)(el|los|la|las|un|unos|una|unas|a|de|del|al|lo|con|contra)(\\b)', '', message)\n",
    "\n",
    "# function to clean default whatsapp messages\n",
    "def clean_whatsapp_message(message):\n",
    "    return '' if('Messages to this chat and calls are now' in message or 'Las llamadas y mensajes enviados a este chat ahora son' in message or '<Media omitted>' in message) else message"
   ]
  },
  {
   "cell_type": "code",
   "execution_count": 114,
   "metadata": {},
   "outputs": [
    {
     "data": {
      "text/plain": [
       "['Jorge',\n",
       " '🙂',\n",
       " 'Salen muy buenas',\n",
       " 'digo porque ya he visto en acción',\n",
       " '//www.incolmotos-yamaha.com.co/site/productos/motos/urbanas-trabajo-y-deportivas/ybr-125',\n",
       " 'O esa',\n",
       " 'Wey',\n",
       " 'Qué va hacer mañana?',\n",
       " 'Quiubo Arley',\n",
       " 'Voy salir mi familia. Luego??']"
      ]
     },
     "execution_count": 114,
     "metadata": {},
     "output_type": "execute_result"
    }
   ],
   "source": [
    "# clean messages from chat\n",
    "rdd_chat = rdd_chat.map(lambda message: clean_message(message))\n",
    "rdd_chat = rdd_chat.filter(lambda message: message.strip())\n",
    "\n",
    "# print messages formatted (cleaned)\n",
    "rdd_chat.take(10)"
   ]
  }
 ],
 "metadata": {
  "kernelspec": {
   "display_name": "Python 3",
   "language": "python",
   "name": "python3"
  },
  "language_info": {
   "codemirror_mode": {
    "name": "ipython",
    "version": 3
   },
   "file_extension": ".py",
   "mimetype": "text/x-python",
   "name": "python",
   "nbconvert_exporter": "python",
   "pygments_lexer": "ipython3",
   "version": "3.5.2"
  }
 },
 "nbformat": 4,
 "nbformat_minor": 2
}
